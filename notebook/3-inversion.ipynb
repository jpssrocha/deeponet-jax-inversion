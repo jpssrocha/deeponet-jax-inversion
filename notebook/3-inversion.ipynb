{
 "cells": [
  {
   "cell_type": "markdown",
   "id": "f3c5c362-9350-40b3-aa5e-156dfad5cbea",
   "metadata": {},
   "source": [
    "In this notebook i'll be setting up an artificial dataset for the damped oscilator, then i'll use the deeponet as a surrogate model to do an inversion problem."
   ]
  },
  {
   "cell_type": "code",
   "execution_count": 8,
   "id": "64aca193-7c59-4655-8c80-0513660cc344",
   "metadata": {},
   "outputs": [],
   "source": [
    "import jax\n",
    "import jax.numpy as jnp\n",
    "import numpy as np\n",
    "import equinox as eqx\n",
    "from scipy.integrate import odeint\n",
    "\n",
    "import matplotlib.pyplot as plt\n",
    "import optax"
   ]
  },
  {
   "cell_type": "markdown",
   "id": "9ad7ef89-0979-4b9e-ba99-7f55748ee757",
   "metadata": {},
   "source": [
    "# Artificial dataset\n",
    "\n",
    "Let's run the simulations for a set of points and then add some noise!"
   ]
  },
  {
   "cell_type": "code",
   "execution_count": 28,
   "id": "f00d2456-e525-4733-bbdb-d6c1f51a5f6f",
   "metadata": {},
   "outputs": [
    {
     "data": {
      "text/plain": [
       "<matplotlib.collections.PathCollection at 0x7037085e5a60>"
      ]
     },
     "execution_count": 28,
     "metadata": {},
     "output_type": "execute_result"
    },
    {
     "data": {
      "image/png": "[encoded data removed]",
      "text/plain": [
       "<Figure size 640x480 with 1 Axes>"
      ]
     },
     "metadata": {},
     "output_type": "display_data"
    }
   ],
   "source": [
    "key = jax.random.key(42)\n",
    "\n",
    "initial_cond = (1, 1)\n",
    "\n",
    "def damped_oscillator_scipy(X, t, beta, k):\n",
    "    x, v = X\n",
    "    dxdt = v\n",
    "    dvdt = -beta * v - k * x\n",
    "    return [dxdt, dvdt]\n",
    "\n",
    "ts = np.linspace(0, 10, 100)\n",
    "\n",
    "beta = 0.3\n",
    "k = 1.5\n",
    "\n",
    "solution = odeint(damped_oscillator_scipy, initial_cond, ts, args=(beta, k))\n",
    "\n",
    "\n",
    "ts = jnp.array(ts)\n",
    "ys = jnp.array(solution[:, 0])\n",
    "ys = ys + 0.1*jax.random.normal(key, shape=ys.shape)\n",
    "\n",
    "plt.scatter(ts, ys)"
   ]
  },
  {
   "cell_type": "markdown",
   "id": "c57c87e6-0c1b-415d-af53-44a5ef938260",
   "metadata": {},
   "source": [
    "Looks ugly enough for me! Let's go load the deeponet model."
   ]
  },
  {
   "cell_type": "markdown",
   "id": "3668d4dc-1ec5-4904-a1e4-ba42228d27f8",
   "metadata": {},
   "source": [
    "# Model definition and loading\n",
    "\n",
    "Let's redefine the model and load it."
   ]
  },
  {
   "cell_type": "code",
   "execution_count": 2,
   "id": "3d6f5476-9ac1-4f68-9e37-fcc2f231f98c",
   "metadata": {},
   "outputs": [],
   "source": [
    "from typing import Callable\n",
    "\n",
    "class DeepOnet(eqx.Module):\n",
    "    branch_net: eqx.nn.MLP\n",
    "    trunk_net: eqx.nn.MLP\n",
    "    bias: jax.Array\n",
    "\n",
    "    def __init__(\n",
    "        self, \n",
    "        in_branch: int,\n",
    "        in_trunk: int,\n",
    "        width: int,\n",
    "        depth: int,\n",
    "        interact: int,\n",
    "        activation: Callable,\n",
    "        *,\n",
    "        key\n",
    "    ):\n",
    "        \"\"\"\n",
    "        Simplified deeponet using twin hidden architectures\n",
    "        \"\"\"\n",
    "\n",
    "        b_key, t_key = jax.random.split(key)\n",
    "\n",
    "        self.branch_net = eqx.nn.MLP(\n",
    "            in_branch,\n",
    "            interact,\n",
    "            width,\n",
    "            depth,\n",
    "            activation,\n",
    "            key=b_key\n",
    "        )\n",
    "\n",
    "        self.trunk_net = eqx.nn.MLP(\n",
    "            in_trunk,\n",
    "            interact,\n",
    "            width,\n",
    "            depth,\n",
    "            activation,\n",
    "            final_activation=activation,\n",
    "            key=b_key\n",
    "        )\n",
    "\n",
    "        self.bias = jnp.zeros((1,))\n",
    "\n",
    "    \n",
    "    def __call__(self, x_branch, x_trunk):\n",
    "        \"\"\"\n",
    "        x_branch.shape = (in_size_branch,)\n",
    "        x_trunk.shape = (1,)\n",
    "\n",
    "        return shape: \"scalar\"\n",
    "        \"\"\"\n",
    "\n",
    "        branch_out = self.branch_net(x_branch)\n",
    "        trunk_out = self.trunk_net(x_trunk)\n",
    "\n",
    "        inner_product = jnp.sum(branch_out*trunk_out, keepdims=True)\n",
    "\n",
    "        return (inner_product + self.bias)[0]\n",
    "\n",
    "\n",
    "deeponet = DeepOnet(\n",
    "    4,\n",
    "    1,\n",
    "    64,\n",
    "    6,\n",
    "    32,\n",
    "    activation=jax.nn.relu,\n",
    "    key=jax.random.key(463)\n",
    ")\n",
    "        \n",
    "deeponet = eqx.tree_deserialise_leaves(\"best_model.eqx\", deeponet)"
   ]
  },
  {
   "cell_type": "markdown",
   "id": "298c2f2d-8cae-41d7-8926-e4661bb4af27",
   "metadata": {},
   "source": [
    "# Inversion problem\n",
    "\n",
    "Let's set up a loss function and update it using a simple. Let's set the initial conditions:"
   ]
  },
  {
   "cell_type": "code",
   "execution_count": 37,
   "id": "db89a87a-c733-4503-ae5b-f8ba614c98a2",
   "metadata": {},
   "outputs": [],
   "source": [
    "args = jnp.array(np.random.uniform(0, 2, size=(4,)))  \n",
    "losses = []"
   ]
  },
  {
   "cell_type": "code",
   "execution_count": 39,
   "id": "d8e9d277-37f1-4356-9aee-c060b5094347",
   "metadata": {
    "scrolled": true
   },
   "outputs": [
    {
     "name": "stdout",
     "output_type": "stream",
     "text": [
      "it = 0 | loss = Array(0.21161015, dtype=float32)\n",
      "it = 10 | loss = Array(0.1872308, dtype=float32)\n",
      "it = 20 | loss = Array(0.18136562, dtype=float32)\n",
      "it = 30 | loss = Array(0.17449181, dtype=float32)\n",
      "it = 40 | loss = Array(0.16819488, dtype=float32)\n",
      "it = 50 | loss = Array(0.16121288, dtype=float32)\n",
      "it = 60 | loss = Array(0.15601787, dtype=float32)\n",
      "it = 70 | loss = Array(0.15199876, dtype=float32)\n",
      "it = 80 | loss = Array(0.14677942, dtype=float32)\n",
      "it = 90 | loss = Array(0.13837582, dtype=float32)\n",
      "it = 100 | loss = Array(0.12919933, dtype=float32)\n",
      "it = 110 | loss = Array(0.12498116, dtype=float32)\n",
      "it = 120 | loss = Array(0.12157268, dtype=float32)\n",
      "it = 130 | loss = Array(0.11892755, dtype=float32)\n",
      "it = 140 | loss = Array(0.11532318, dtype=float32)\n",
      "it = 150 | loss = Array(0.10914864, dtype=float32)\n",
      "it = 160 | loss = Array(0.10414024, dtype=float32)\n",
      "it = 170 | loss = Array(0.10100005, dtype=float32)\n",
      "it = 180 | loss = Array(0.07272771, dtype=float32)\n",
      "it = 190 | loss = Array(0.06466171, dtype=float32)\n",
      "it = 200 | loss = Array(0.04540752, dtype=float32)\n",
      "it = 210 | loss = Array(0.03146832, dtype=float32)\n",
      "it = 220 | loss = Array(0.02635871, dtype=float32)\n",
      "it = 230 | loss = Array(0.02305387, dtype=float32)\n",
      "it = 240 | loss = Array(0.02057922, dtype=float32)\n",
      "it = 250 | loss = Array(0.01884027, dtype=float32)\n",
      "it = 260 | loss = Array(0.01760422, dtype=float32)\n",
      "it = 270 | loss = Array(0.01668253, dtype=float32)\n",
      "it = 280 | loss = Array(0.01594373, dtype=float32)\n",
      "it = 290 | loss = Array(0.01532139, dtype=float32)\n",
      "it = 300 | loss = Array(0.01478081, dtype=float32)\n",
      "it = 310 | loss = Array(0.01429579, dtype=float32)\n",
      "it = 320 | loss = Array(0.01385327, dtype=float32)\n",
      "it = 330 | loss = Array(0.01344533, dtype=float32)\n",
      "it = 340 | loss = Array(0.01307137, dtype=float32)\n",
      "it = 350 | loss = Array(0.01272754, dtype=float32)\n",
      "it = 360 | loss = Array(0.01241084, dtype=float32)\n",
      "it = 370 | loss = Array(0.01209581, dtype=float32)\n",
      "it = 380 | loss = Array(0.01175983, dtype=float32)\n",
      "it = 390 | loss = Array(0.0114253, dtype=float32)\n",
      "it = 400 | loss = Array(0.01112379, dtype=float32)\n",
      "it = 410 | loss = Array(0.01085154, dtype=float32)\n",
      "it = 420 | loss = Array(0.01060557, dtype=float32)\n",
      "it = 430 | loss = Array(0.01038329, dtype=float32)\n",
      "it = 440 | loss = Array(0.01018242, dtype=float32)\n",
      "it = 450 | loss = Array(0.01000084, dtype=float32)\n",
      "it = 460 | loss = Array(0.00980098, dtype=float32)\n",
      "it = 470 | loss = Array(0.00961727, dtype=float32)\n",
      "it = 480 | loss = Array(0.00945685, dtype=float32)\n",
      "it = 490 | loss = Array(0.0093228, dtype=float32)\n",
      "it = 500 | loss = Array(0.00920508, dtype=float32)\n",
      "it = 510 | loss = Array(0.0091045, dtype=float32)\n",
      "it = 520 | loss = Array(0.00901778, dtype=float32)\n",
      "it = 530 | loss = Array(0.00894246, dtype=float32)\n",
      "it = 540 | loss = Array(0.008876, dtype=float32)\n",
      "it = 550 | loss = Array(0.00881574, dtype=float32)\n",
      "it = 560 | loss = Array(0.00876083, dtype=float32)\n",
      "it = 570 | loss = Array(0.00871029, dtype=float32)\n",
      "it = 580 | loss = Array(0.00866401, dtype=float32)\n",
      "it = 590 | loss = Array(0.0086218, dtype=float32)\n",
      "it = 600 | loss = Array(0.00858328, dtype=float32)\n",
      "it = 610 | loss = Array(0.00854811, dtype=float32)\n",
      "it = 620 | loss = Array(0.00851597, dtype=float32)\n",
      "it = 630 | loss = Array(0.00848659, dtype=float32)\n",
      "it = 640 | loss = Array(0.00845972, dtype=float32)\n",
      "it = 650 | loss = Array(0.00843515, dtype=float32)\n",
      "it = 660 | loss = Array(0.00841268, dtype=float32)\n",
      "it = 670 | loss = Array(0.00839212, dtype=float32)\n",
      "it = 680 | loss = Array(0.00837331, dtype=float32)\n",
      "it = 690 | loss = Array(0.0083561, dtype=float32)\n",
      "it = 700 | loss = Array(0.00834035, dtype=float32)\n",
      "it = 710 | loss = Array(0.00832594, dtype=float32)\n",
      "it = 720 | loss = Array(0.00831275, dtype=float32)\n",
      "it = 730 | loss = Array(0.00830068, dtype=float32)\n",
      "it = 740 | loss = Array(0.00828963, dtype=float32)\n",
      "it = 750 | loss = Array(0.00827952, dtype=float32)\n",
      "it = 760 | loss = Array(0.00827027, dtype=float32)\n",
      "it = 770 | loss = Array(0.0082618, dtype=float32)\n",
      "it = 780 | loss = Array(0.00825405, dtype=float32)\n",
      "it = 790 | loss = Array(0.00824696, dtype=float32)\n",
      "it = 800 | loss = Array(0.00824047, dtype=float32)\n",
      "it = 810 | loss = Array(0.00823452, dtype=float32)\n",
      "it = 820 | loss = Array(0.00822908, dtype=float32)\n",
      "it = 830 | loss = Array(0.00822411, dtype=float32)\n",
      "it = 840 | loss = Array(0.00821955, dtype=float32)\n",
      "it = 850 | loss = Array(0.00821538, dtype=float32)\n",
      "it = 860 | loss = Array(0.00821157, dtype=float32)\n",
      "it = 870 | loss = Array(0.00820807, dtype=float32)\n",
      "it = 880 | loss = Array(0.00820488, dtype=float32)\n",
      "it = 890 | loss = Array(0.00820195, dtype=float32)\n",
      "it = 900 | loss = Array(0.00819927, dtype=float32)\n",
      "it = 910 | loss = Array(0.00819682, dtype=float32)\n",
      "it = 920 | loss = Array(0.00819458, dtype=float32)\n",
      "it = 930 | loss = Array(0.00819252, dtype=float32)\n",
      "it = 940 | loss = Array(0.00819065, dtype=float32)\n",
      "it = 950 | loss = Array(0.00818892, dtype=float32)\n",
      "it = 960 | loss = Array(0.00818735, dtype=float32)\n",
      "it = 970 | loss = Array(0.00818591, dtype=float32)\n",
      "it = 980 | loss = Array(0.00818459, dtype=float32)\n",
      "it = 990 | loss = Array(0.00818338, dtype=float32)\n"
     ]
    }
   ],
   "source": [
    "ts = jnp.linspace(0, 10, 100).reshape(-1, 1)\n",
    "\n",
    "def loss_fn(args):\n",
    "    \n",
    "    out = jax.vmap(deeponet, in_axes=(None, 0))(args, ts)\n",
    "    delta = (out - ys)**2\n",
    "\n",
    "    return jnp.mean(delta)\n",
    "\n",
    "lr = 0.1\n",
    "\n",
    "for it in range(1_000):\n",
    "    loss, grad = eqx.filter_value_and_grad(loss_fn)(args)\n",
    "\n",
    "    losses.append(loss)\n",
    "    args -= lr*grad\n",
    "    \n",
    "    if it % 10 == 0:\n",
    "        print(f\"{it = } | {loss = }\")\n"
   ]
  },
  {
   "cell_type": "code",
   "execution_count": 40,
   "id": "f60f0d7c-650b-4313-9c48-a5d2032525f6",
   "metadata": {},
   "outputs": [
    {
     "data": {
      "text/plain": [
       "Array([1.5094507 , 0.31676653, 0.99423313, 1.0538297 ], dtype=float32)"
      ]
     },
     "execution_count": 40,
     "metadata": {},
     "output_type": "execute_result"
    }
   ],
   "source": [
    "args"
   ]
  },
  {
   "cell_type": "markdown",
   "id": "fe26a5c4-9322-421d-adc8-2d0b9c169e3d",
   "metadata": {},
   "source": [
    "It worked!!! I can start refining it now."
   ]
  }
 ],
 "metadata": {
  "kernelspec": {
   "display_name": "Python 3 (ipykernel)",
   "language": "python",
   "name": "python3"
  },
  "language_info": {
   "codemirror_mode": {
    "name": "ipython",
    "version": 3
   },
   "file_extension": ".py",
   "mimetype": "text/x-python",
   "name": "python",
   "nbconvert_exporter": "python",
   "pygments_lexer": "ipython3",
   "version": "3.12.7"
  }
 },
 "nbformat": 4,
 "nbformat_minor": 5
}
